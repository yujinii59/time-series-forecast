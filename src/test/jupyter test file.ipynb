{
 "cells": [
  {
   "cell_type": "code",
   "execution_count": 10,
   "metadata": {
    "collapsed": true
   },
   "outputs": [],
   "source": [
    "import pandas as pd\n",
    "\n",
    "data = pd.read_csv('/Users/iyj/Desktop/YJKIM_code/confectionery-time-series-forecast-main/data/bin/M4S_O110600.csv',sep=',')"
   ]
  },
  {
   "cell_type": "code",
   "execution_count": 8,
   "outputs": [
    {
     "data": {
      "text/plain": "'20220802'"
     },
     "execution_count": 8,
     "metadata": {},
     "output_type": "execute_result"
    }
   ],
   "source": [
    "import datetime\n",
    "datetime.datetime.strftime(datetime.date.today(), '%Y%m%d')"
   ],
   "metadata": {
    "collapsed": false,
    "pycharm": {
     "name": "#%%\n"
    }
   }
  },
  {
   "cell_type": "code",
   "execution_count": 16,
   "outputs": [
    {
     "name": "stderr",
     "output_type": "stream",
     "text": [
      "/var/folders/gy/fn72qmd54376mrszg4b53k_m0000gn/T/ipykernel_2478/3905898083.py:1: SettingWithCopyWarning: \n",
      "A value is trying to be set on a copy of a slice from a DataFrame.\n",
      "Try using .loc[row_indexer,col_indexer] = value instead\n",
      "\n",
      "See the caveats in the documentation: https://pandas.pydata.org/pandas-docs/stable/user_guide/indexing.html#returning-a-view-versus-a-copy\n",
      "  data[data['YYMMDD']==20220103]['test'] = 'a'\n"
     ]
    }
   ],
   "source": [
    "data['test'] = 'a'"
   ],
   "metadata": {
    "collapsed": false,
    "pycharm": {
     "name": "#%%\n"
    }
   }
  },
  {
   "cell_type": "code",
   "execution_count": 17,
   "outputs": [
    {
     "data": {
      "text/plain": "  PROJECT_CD       DATA_VRSN_CD DIVISION_CD STAT_CD                FKEY WEEK  \\\n0     ENT001  20190107-20220102     SELL_IN      AR  C1-P3-1005-P101001  W01   \n1     ENT001  20190107-20220102     SELL_IN      AR  C1-P3-1005-P101001  W02   \n2     ENT001  20190107-20220102     SELL_IN      AR  C1-P3-1005-P101001  W03   \n3     ENT001  20190107-20220102     SELL_IN      AR  C1-P3-1005-P101001  W04   \n4     ENT001  20190107-20220102     SELL_IN      AR  C1-P3-1005-P101001  W05   \n\n     YYMMDD  TIME_INDEX  RESULT_SALES  CUST_GRP_CD  ... ITEM_ATTR02_CD  \\\n0  20220103         NaN        78.295         1005  ...           P101   \n1  20220110         NaN        89.703         1005  ...           P101   \n2  20220117         NaN        72.476         1005  ...           P101   \n3  20220124         NaN        34.281         1005  ...           P101   \n4  20220131         NaN        60.410         1005  ...           P101   \n\n   ITEM_ATTR02_NM  ITEM_ATTR03_CD ITEM_ATTR03_NM ITEM_ATTR04_CD  \\\n0               껌         P101001           자일리톨            NaN   \n1               껌         P101001           자일리톨            NaN   \n2               껌         P101001           자일리톨            NaN   \n3               껌         P101001           자일리톨            NaN   \n4               껌         P101001           자일리톨            NaN   \n\n  ITEM_ATTR04_NM ITEM_CD ITEM_NM CREATE_USER_CD              CREATE_DATE  \n0            NaN     NaN     NaN         SYSTEM  2022-01-06 11:30:55.200  \n1            NaN     NaN     NaN         SYSTEM  2022-01-06 11:30:55.200  \n2            NaN     NaN     NaN         SYSTEM  2022-01-06 11:30:55.200  \n3            NaN     NaN     NaN         SYSTEM  2022-01-06 11:30:55.200  \n4            NaN     NaN     NaN         SYSTEM  2022-01-06 11:30:55.200  \n\n[5 rows x 25 columns]",
      "text/html": "<div>\n<style scoped>\n    .dataframe tbody tr th:only-of-type {\n        vertical-align: middle;\n    }\n\n    .dataframe tbody tr th {\n        vertical-align: top;\n    }\n\n    .dataframe thead th {\n        text-align: right;\n    }\n</style>\n<table border=\"1\" class=\"dataframe\">\n  <thead>\n    <tr style=\"text-align: right;\">\n      <th></th>\n      <th>PROJECT_CD</th>\n      <th>DATA_VRSN_CD</th>\n      <th>DIVISION_CD</th>\n      <th>STAT_CD</th>\n      <th>FKEY</th>\n      <th>WEEK</th>\n      <th>YYMMDD</th>\n      <th>TIME_INDEX</th>\n      <th>RESULT_SALES</th>\n      <th>CUST_GRP_CD</th>\n      <th>...</th>\n      <th>ITEM_ATTR02_CD</th>\n      <th>ITEM_ATTR02_NM</th>\n      <th>ITEM_ATTR03_CD</th>\n      <th>ITEM_ATTR03_NM</th>\n      <th>ITEM_ATTR04_CD</th>\n      <th>ITEM_ATTR04_NM</th>\n      <th>ITEM_CD</th>\n      <th>ITEM_NM</th>\n      <th>CREATE_USER_CD</th>\n      <th>CREATE_DATE</th>\n    </tr>\n  </thead>\n  <tbody>\n    <tr>\n      <th>0</th>\n      <td>ENT001</td>\n      <td>20190107-20220102</td>\n      <td>SELL_IN</td>\n      <td>AR</td>\n      <td>C1-P3-1005-P101001</td>\n      <td>W01</td>\n      <td>20220103</td>\n      <td>NaN</td>\n      <td>78.295</td>\n      <td>1005</td>\n      <td>...</td>\n      <td>P101</td>\n      <td>껌</td>\n      <td>P101001</td>\n      <td>자일리톨</td>\n      <td>NaN</td>\n      <td>NaN</td>\n      <td>NaN</td>\n      <td>NaN</td>\n      <td>SYSTEM</td>\n      <td>2022-01-06 11:30:55.200</td>\n    </tr>\n    <tr>\n      <th>1</th>\n      <td>ENT001</td>\n      <td>20190107-20220102</td>\n      <td>SELL_IN</td>\n      <td>AR</td>\n      <td>C1-P3-1005-P101001</td>\n      <td>W02</td>\n      <td>20220110</td>\n      <td>NaN</td>\n      <td>89.703</td>\n      <td>1005</td>\n      <td>...</td>\n      <td>P101</td>\n      <td>껌</td>\n      <td>P101001</td>\n      <td>자일리톨</td>\n      <td>NaN</td>\n      <td>NaN</td>\n      <td>NaN</td>\n      <td>NaN</td>\n      <td>SYSTEM</td>\n      <td>2022-01-06 11:30:55.200</td>\n    </tr>\n    <tr>\n      <th>2</th>\n      <td>ENT001</td>\n      <td>20190107-20220102</td>\n      <td>SELL_IN</td>\n      <td>AR</td>\n      <td>C1-P3-1005-P101001</td>\n      <td>W03</td>\n      <td>20220117</td>\n      <td>NaN</td>\n      <td>72.476</td>\n      <td>1005</td>\n      <td>...</td>\n      <td>P101</td>\n      <td>껌</td>\n      <td>P101001</td>\n      <td>자일리톨</td>\n      <td>NaN</td>\n      <td>NaN</td>\n      <td>NaN</td>\n      <td>NaN</td>\n      <td>SYSTEM</td>\n      <td>2022-01-06 11:30:55.200</td>\n    </tr>\n    <tr>\n      <th>3</th>\n      <td>ENT001</td>\n      <td>20190107-20220102</td>\n      <td>SELL_IN</td>\n      <td>AR</td>\n      <td>C1-P3-1005-P101001</td>\n      <td>W04</td>\n      <td>20220124</td>\n      <td>NaN</td>\n      <td>34.281</td>\n      <td>1005</td>\n      <td>...</td>\n      <td>P101</td>\n      <td>껌</td>\n      <td>P101001</td>\n      <td>자일리톨</td>\n      <td>NaN</td>\n      <td>NaN</td>\n      <td>NaN</td>\n      <td>NaN</td>\n      <td>SYSTEM</td>\n      <td>2022-01-06 11:30:55.200</td>\n    </tr>\n    <tr>\n      <th>4</th>\n      <td>ENT001</td>\n      <td>20190107-20220102</td>\n      <td>SELL_IN</td>\n      <td>AR</td>\n      <td>C1-P3-1005-P101001</td>\n      <td>W05</td>\n      <td>20220131</td>\n      <td>NaN</td>\n      <td>60.410</td>\n      <td>1005</td>\n      <td>...</td>\n      <td>P101</td>\n      <td>껌</td>\n      <td>P101001</td>\n      <td>자일리톨</td>\n      <td>NaN</td>\n      <td>NaN</td>\n      <td>NaN</td>\n      <td>NaN</td>\n      <td>SYSTEM</td>\n      <td>2022-01-06 11:30:55.200</td>\n    </tr>\n  </tbody>\n</table>\n<p>5 rows × 25 columns</p>\n</div>"
     },
     "execution_count": 17,
     "metadata": {},
     "output_type": "execute_result"
    }
   ],
   "source": [
    "data"
   ],
   "metadata": {
    "collapsed": false,
    "pycharm": {
     "name": "#%%\n"
    }
   }
  },
  {
   "cell_type": "code",
   "execution_count": 9,
   "outputs": [],
   "source": [
    "dic = {'a':1, 'b':2}"
   ],
   "metadata": {
    "collapsed": false,
    "pycharm": {
     "name": "#%%\n"
    }
   }
  },
  {
   "cell_type": "code",
   "execution_count": 11,
   "outputs": [],
   "source": [
    "dic.update({'c':0})"
   ],
   "metadata": {
    "collapsed": false,
    "pycharm": {
     "name": "#%%\n"
    }
   }
  },
  {
   "cell_type": "code",
   "execution_count": 12,
   "outputs": [
    {
     "data": {
      "text/plain": "{'a': 1, 'b': 2, 'c': 0}"
     },
     "execution_count": 12,
     "metadata": {},
     "output_type": "execute_result"
    }
   ],
   "source": [
    "dic"
   ],
   "metadata": {
    "collapsed": false,
    "pycharm": {
     "name": "#%%\n"
    }
   }
  },
  {
   "cell_type": "code",
   "execution_count": null,
   "outputs": [],
   "source": [],
   "metadata": {
    "collapsed": false,
    "pycharm": {
     "name": "#%%\n"
    }
   }
  }
 ],
 "metadata": {
  "kernelspec": {
   "display_name": "Python 3",
   "language": "python",
   "name": "python3"
  },
  "language_info": {
   "codemirror_mode": {
    "name": "ipython",
    "version": 2
   },
   "file_extension": ".py",
   "mimetype": "text/x-python",
   "name": "python",
   "nbconvert_exporter": "python",
   "pygments_lexer": "ipython2",
   "version": "2.7.6"
  }
 },
 "nbformat": 4,
 "nbformat_minor": 0
}